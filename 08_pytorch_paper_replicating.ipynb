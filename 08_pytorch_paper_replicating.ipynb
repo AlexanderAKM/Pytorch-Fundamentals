{
 "cells": [
  {
   "cell_type": "markdown",
   "metadata": {},
   "source": [
    "We'll be implementing the research paper \"An Image is Worth 16x16 Words: Transformers for Image Recognition at Scale\": https://arxiv.org/abs/2010.11929"
   ]
  },
  {
   "cell_type": "code",
   "execution_count": null,
   "metadata": {},
   "outputs": [],
   "source": []
  }
 ],
 "metadata": {
  "language_info": {
   "name": "python"
  }
 },
 "nbformat": 4,
 "nbformat_minor": 2
}
